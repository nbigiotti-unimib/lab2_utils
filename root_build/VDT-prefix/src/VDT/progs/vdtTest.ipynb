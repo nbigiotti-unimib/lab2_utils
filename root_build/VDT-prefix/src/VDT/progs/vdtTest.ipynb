{
 "cells": [
  {
   "cell_type": "code",
   "execution_count": 1,
   "metadata": {
    "collapsed": false
   },
   "outputs": [
    {
     "name": "stdout",
     "output_type": "stream",
     "text": [
      "['__doc__', '__file__', '__name__', '__package__', 'vdt_asin', 'vdt_atan', 'vdt_atan2', 'vdt_cos', 'vdt_div', 'vdt_exp', 'vdt_fma', 'vdt_fmac', 'vdt_identity', 'vdt_inv', 'vdt_isqrt', 'vdt_log', 'vdt_sin', 'vdt_sincos', 'vdt_sqrt']\n",
      "[  2.71828175   7.38905621  20.08553696  54.59814835]\n",
      "[  2.71828183   7.3890561   20.08553692  54.59815003]\n"
     ]
    }
   ],
   "source": [
    "import imp\n",
    "import numpy\n",
    "vdtnpfun= imp.load_dynamic('vdtnpfun','vdtnpfun_directory/vdtnpfun.so')\n",
    "import vdtnpfun\n",
    "print dir(vdtnpfun)\n",
    "\n",
    "vi=[1,2,3,4]\n",
    "requires = ['CONTIGUOUS', 'ALIGNED']\n",
    "vi = numpy.asanyarray(vi)\n",
    "vi = numpy.require(vi, numpy.single, requires)\n",
    "vo = numpy.empty_like(vi)\n",
    "print vdtnpfun.vdt_exp(vi)\n",
    "\n",
    "requires = ['CONTIGUOUS', 'ALIGNED']\n",
    "vd = numpy.asanyarray(vi)\n",
    "vd = numpy.require(vi, numpy.double, requires)\n",
    "vo = numpy.empty_like(vd)\n",
    "print vdtnpfun.vdt_exp(vd)\n",
    "\n"
   ]
  },
  {
   "cell_type": "code",
   "execution_count": 2,
   "metadata": {
    "collapsed": false
   },
   "outputs": [
    {
     "data": {
      "text/plain": [
       "'target is \"avx2\",\"fma\"'"
      ]
     },
     "execution_count": 2,
     "metadata": {},
     "output_type": "execute_result"
    }
   ],
   "source": [
    "import os\n",
    "from ctypes import c_char_p\n",
    "def vdt_arch() :\n",
    "   _path = os.path.dirname('__file__')\n",
    "   lib = numpy.ctypeslib.load_library('libvdtFatLibWrapper', _path)\n",
    "   f = lib['vdt_arch']\n",
    "   f.restype = c_char_p\n",
    "   return f()\n",
    "\n",
    "vdt_arch()\n"
   ]
  }
 ],
 "metadata": {
  "kernelspec": {
   "display_name": "Python 2",
   "language": "python",
   "name": "python2"
  },
  "language_info": {
   "codemirror_mode": {
    "name": "ipython",
    "version": 2
   },
   "file_extension": ".py",
   "mimetype": "text/x-python",
   "name": "python",
   "nbconvert_exporter": "python",
   "pygments_lexer": "ipython2",
   "version": "2.7.13"
  }
 },
 "nbformat": 4,
 "nbformat_minor": 1
}
